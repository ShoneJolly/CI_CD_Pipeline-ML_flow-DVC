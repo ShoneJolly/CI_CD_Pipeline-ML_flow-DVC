{
 "cells": [
  {
   "cell_type": "code",
   "execution_count": 1,
   "id": "9c81353a",
   "metadata": {},
   "outputs": [],
   "source": [
    "import os"
   ]
  },
  {
   "cell_type": "code",
   "execution_count": 2,
   "id": "e5b3bf89",
   "metadata": {},
   "outputs": [
    {
     "data": {
      "text/plain": [
       "'d:\\\\GoFreeLabTechnologies\\\\Internship projects\\\\CI_CD_Pipeline\\\\CI_CD_Pipeline-ML_flow-DVC\\\\research'"
      ]
     },
     "execution_count": 2,
     "metadata": {},
     "output_type": "execute_result"
    }
   ],
   "source": [
    "%pwd"
   ]
  },
  {
   "cell_type": "code",
   "execution_count": 3,
   "metadata": {},
   "outputs": [],
   "source": [
    "os.chdir(\"../\")"
   ]
  },
  {
   "cell_type": "code",
   "execution_count": 4,
   "id": "064a629d",
   "metadata": {},
   "outputs": [
    {
     "data": {
      "text/plain": [
       "'d:\\\\GoFreeLabTechnologies\\\\Internship projects\\\\CI_CD_Pipeline\\\\CI_CD_Pipeline-ML_flow-DVC'"
      ]
     },
     "execution_count": 4,
     "metadata": {},
     "output_type": "execute_result"
    }
   ],
   "source": [
    "%pwd"
   ]
  },
  {
   "cell_type": "code",
   "execution_count": 5,
   "id": "e9593a62",
   "metadata": {},
   "outputs": [],
   "source": [
    "from dataclasses import dataclass\n",
    "from pathlib import Path\n",
    "\n",
    "@dataclass(frozen=True)\n",
    "class ModelTrainerConfig:\n",
    "    root_dir: Path\n",
    "    load_data: Path\n",
    "    save_model: Path\n",
    "    params: dict\n"
   ]
  },
  {
   "cell_type": "code",
   "execution_count": 6,
   "id": "88eb8de3",
   "metadata": {},
   "outputs": [],
   "source": [
    "from ImageForgeryDetection.constants import *\n",
    "from ImageForgeryDetection.utils.common import read_yaml,create_directories"
   ]
  },
  {
   "cell_type": "code",
   "execution_count": 7,
   "id": "b09ecbb0",
   "metadata": {},
   "outputs": [],
   "source": [
    "class ConfigurationManager:\n",
    "    def __init__(\n",
    "        self,\n",
    "        config_filepath=CONFIG_FILE_PATH,\n",
    "        params_filepath=PARAMS_FILE_PATH):\n",
    "    \n",
    "        self.config = read_yaml(config_filepath)\n",
    "        self.params = read_yaml(params_filepath)\n",
    "        \n",
    "        create_directories([self.config.artifacts_root])\n",
    "\n",
    "    def get_model_trainer_config(self) -> ModelTrainerConfig:\n",
    "        \n",
    "        config = self.config.model_trainer\n",
    "        params = self.params.trainer\n",
    "\n",
    "        create_directories([config.root_dir])\n",
    "        model_trainer_config = ModelTrainerConfig(\n",
    "            root_dir=Path(config.root_dir),\n",
    "            load_data=Path(config.load_data),\n",
    "            save_model=Path(config.save_model),\n",
    "            params=params\n",
    "        )\n",
    "\n",
    "        return model_trainer_config"
   ]
  },
  {
   "cell_type": "code",
   "execution_count": null,
   "id": "e34aa847",
   "metadata": {},
   "outputs": [
    {
     "name": "stderr",
     "output_type": "stream",
     "text": [
      "c:\\Users\\hp\\anaconda3\\envs\\cicdproject\\lib\\site-packages\\requests\\__init__.py:86: RequestsDependencyWarning: Unable to find acceptable character detection dependency (chardet or charset_normalizer).\n",
      "  warnings.warn(\n",
      "c:\\Users\\hp\\anaconda3\\envs\\cicdproject\\lib\\site-packages\\h5py\\__init__.py:36: UserWarning: h5py is running against HDF5 1.14.6 when it was built against 1.14.5, this may cause problems\n",
      "  _warn((\"h5py is running against HDF5 {0} when it was built against {1}, \"\n"
     ]
    }
   ],
   "source": [
    "import joblib\n",
    "import numpy as np\n",
    "import tensorflow as tf\n",
    "from sklearn.model_selection import train_test_split\n",
    "from tensorflow.keras.utils import Sequence\n",
    "from tensorflow.keras.metrics import Precision, F1Score, Recall\n",
    "from ImageForgeryDetection import logger\n",
    "import gc"
   ]
  },
  {
   "cell_type": "code",
   "execution_count": 9,
   "id": "37e9ee53",
   "metadata": {},
   "outputs": [],
   "source": [
    "class ModelTrainer(Sequence):\n",
    "    def __init__(self, config: ModelTrainerConfig, **kwargs):\n",
    "        \"\"\"\n",
    "        Initializes the ModelTrainer with configuration.\n",
    "        \"\"\"\n",
    "        super().__init__(**kwargs)  # Initialize Sequence base class\n",
    "        logger.info(\"Initializing ModelTrainer\")\n",
    "        self.config = config\n",
    "        self.params = config.params\n",
    "        self.model = None\n",
    "        self.X_train = None\n",
    "        self.X_test = None\n",
    "        self.y_train = None\n",
    "        self.y_test = None\n",
    "        self.train_indexes = None\n",
    "        self.val_indexes = None\n",
    "\n",
    "    def __len__(self):\n",
    "        \"\"\"\n",
    "        Returns the number of training batches per epoch.\n",
    "        \"\"\"\n",
    "        return int(np.floor(len(self.X_train) / self.params['batch_size']))\n",
    "\n",
    "    def __getitem__(self, index):\n",
    "        \"\"\"\n",
    "        Retrieves a training batch of data.\n",
    "        \"\"\"\n",
    "        indexes = self.train_indexes[index * self.params['batch_size']:(index + 1) * self.params['batch_size']]\n",
    "        X = [self.X_train[k] for k in indexes]\n",
    "        y = [self.y_train[k] for k in indexes]\n",
    "        return np.array(X), np.array(y)\n",
    "\n",
    "    def on_epoch_end(self):\n",
    "        \"\"\"\n",
    "        Shuffles training indices at the end of each epoch.\n",
    "        \"\"\"\n",
    "        self.train_indexes = np.arange(len(self.X_train))\n",
    "        np.random.shuffle(self.train_indexes)\n",
    "\n",
    "    def get_validation_data(self):\n",
    "        \"\"\"\n",
    "        Returns the validation data generator.\n",
    "        \"\"\"\n",
    "        class ValidationGenerator(Sequence):\n",
    "            def __init__(self, X, y, batch_size, **kwargs):\n",
    "                super().__init__(**kwargs)  # Initialize Sequence base class\n",
    "                self.X = X\n",
    "                self.y = y\n",
    "                self.batch_size = batch_size\n",
    "                self.indexes = np.arange(len(self.X))\n",
    "\n",
    "            def __len__(self):\n",
    "                return int(np.floor(len(self.X) / self.batch_size))\n",
    "\n",
    "            def __getitem__(self, index):\n",
    "                indexes = self.indexes[index * self.batch_size:(index + 1) * self.batch_size]\n",
    "                X = [self.X[k] for k in indexes]\n",
    "                y = [self.y[k] for k in indexes]\n",
    "                return np.array(X), np.array(y)\n",
    "\n",
    "        return ValidationGenerator(self.X_test, self.y_test, self.params['batch_size'])\n",
    "\n",
    "    def load_data(self):\n",
    "        \"\"\"\n",
    "        Loads X and y data from joblib files specified in config.\n",
    "        \"\"\"\n",
    "        logger.info(f\"Loading data from {self.config.load_data}\")\n",
    "        try:\n",
    "            x_path = self.config.load_data / 'X_90.joblib'\n",
    "            y_path = self.config.load_data / 'y.joblib'\n",
    "            X = joblib.load(x_path)\n",
    "            y = joblib.load(y_path)\n",
    "            logger.info(f\"Loaded X with shape {X.shape} and y with shape {y.shape}\")\n",
    "            return X, y\n",
    "        except Exception as e:\n",
    "            logger.error(f\"Error loading data: {e}\")\n",
    "            raise\n",
    "\n",
    "    def split_data(self, X, y):\n",
    "        \"\"\"\n",
    "        Splits data into training and testing sets.\n",
    "        \"\"\"\n",
    "        logger.info(\"Splitting data into train and test sets\")\n",
    "        try:\n",
    "            X_train, X_test, y_train, y_test = train_test_split(\n",
    "                X, y, test_size=0.2, random_state=42, stratify=y\n",
    "            )\n",
    "            logger.info(f\"Train set: X_train shape {X_train.shape}, y_train shape {y_train.shape}\")\n",
    "            logger.info(f\"Test set: X_test shape {X_test.shape}, y_test shape {y_test.shape}\")\n",
    "            return X_train, X_test, y_train, y_test\n",
    "        except Exception as e:\n",
    "            logger.error(f\"Error splitting data: {e}\")\n",
    "            raise\n",
    "\n",
    "    def preprocess_data(self, X_train, X_test, y_train, y_test):\n",
    "        \"\"\"\n",
    "        Reshapes data for CNN input and initializes indices.\n",
    "        \"\"\"\n",
    "        logger.info(\"Preprocessing data\")\n",
    "        try:\n",
    "            # Reshape for CNN input (128x128x3)\n",
    "            X_train = X_train.reshape(X_train.shape[0], 128, 128, 3)\n",
    "            X_test = X_test.reshape(X_test.shape[0], 128, 128, 3)\n",
    "            y_train = y_train.reshape(y_train.shape[0], 2)\n",
    "            y_test = y_test.reshape(y_test.shape[0], 2)\n",
    "            logger.info(f\"Reshaped X_train to {X_train.shape}, X_test to {X_test.shape}\")\n",
    "            logger.info(f\"Reshaped y_train to {y_train.shape}, y_test to {y_test.shape}\")\n",
    "\n",
    "            # Store reshaped data and initialize indices\n",
    "            self.X_train, self.X_test = X_train, X_test\n",
    "            self.y_train, self.y_test = y_train, y_test\n",
    "            self.train_indexes = np.arange(len(self.X_train))\n",
    "            np.random.shuffle(self.train_indexes)\n",
    "            logger.info(\"Data preprocessing completed\")\n",
    "        except Exception as e:\n",
    "            logger.error(f\"Error preprocessing data: {e}\")\n",
    "            raise\n",
    "\n",
    "    def build_model(self):\n",
    "        \"\"\"\n",
    "        Builds and returns a CNN model.\n",
    "        \"\"\"\n",
    "        logger.info(\"Building CNN model\")\n",
    "        try:\n",
    "            model = tf.keras.Sequential([\n",
    "                tf.keras.layers.Conv2D(32, (3, 3), activation='relu', input_shape=(128, 128, 3)),\n",
    "                tf.keras.layers.MaxPooling2D((2, 2)),\n",
    "                tf.keras.layers.Conv2D(64, (3, 3), activation='relu'),\n",
    "                tf.keras.layers.MaxPooling2D((2, 2)),\n",
    "                tf.keras.layers.Conv2D(64, (3, 3), activation='relu'),\n",
    "                tf.keras.layers.Flatten(),\n",
    "                tf.keras.layers.Dense(64, activation='relu'),\n",
    "                tf.keras.layers.Dense(2, activation='softmax')\n",
    "            ])\n",
    "            logger.info(\"Model built successfully\")\n",
    "            return model\n",
    "        except Exception as e:\n",
    "            logger.error(f\"Error building model: {e}\")\n",
    "            raise\n",
    "\n",
    "    def train(self):\n",
    "        \"\"\"\n",
    "        Trains the model with the specified configuration and saves the best model.\n",
    "        \"\"\"\n",
    "        logger.info(\"Starting model training\")\n",
    "        try:\n",
    "            # Build model\n",
    "            self.model = self.build_model()\n",
    "            \n",
    "            # Compile model with parameters from params.yaml\n",
    "            optimizer = self.params['optimizer']\n",
    "            metrics = [metric.lower() if metric == 'accuracy' else getattr(tf.keras.metrics, metric)() \n",
    "                       for metric in self.params['metrics']]\n",
    "            self.model.compile(optimizer=optimizer, \n",
    "                              loss='categorical_crossentropy', \n",
    "                              metrics=metrics)\n",
    "            self.model.summary()\n",
    "\n",
    "            # Define callbacks\n",
    "            cal1 = tf.keras.callbacks.EarlyStopping(\n",
    "                monitor='val_loss', \n",
    "                patience=self.params['patience'], \n",
    "                restore_best_weights=True\n",
    "            )\n",
    "            cal2 = tf.keras.callbacks.ModelCheckpoint(\n",
    "                str(self.config.save_model / 'model.keras'), \n",
    "                monitor='val_loss', \n",
    "                save_best_only=True\n",
    "            )\n",
    "            \n",
    "            # Train model with default Keras progress bar\n",
    "            history = self.model.fit(\n",
    "                self,\n",
    "                epochs=self.params['epochs'],\n",
    "                validation_data=self.get_validation_data(),\n",
    "                callbacks=[cal1, cal2],\n",
    "                verbose=1  # Use default Keras progress bar\n",
    "            )\n",
    "            logger.info(\"Model training completed\")\n",
    "            return history.history\n",
    "        except Exception as e:\n",
    "            logger.error(f\"Error during training: {e}\")\n",
    "            raise\n",
    "\n",
    "    def run_training_pipeline(self):\n",
    "        \"\"\"\n",
    "        Runs the complete training pipeline: load, split, preprocess, and train.\n",
    "        \"\"\"\n",
    "        logger.info(\"Starting training pipeline\")\n",
    "        try:\n",
    "            # Load data\n",
    "            X, y = self.load_data()\n",
    "            \n",
    "            # Split data\n",
    "            X_train, X_test, y_train, y_test = self.split_data(X, y)\n",
    "            \n",
    "            # Free memory\n",
    "            del X\n",
    "            del y\n",
    "            gc.collect()\n",
    "            logger.info(\"Memory cleared after loading and splitting\")\n",
    "            \n",
    "            # Preprocess data\n",
    "            self.preprocess_data(X_train, X_test, y_train, y_test)\n",
    "            \n",
    "            # Train model\n",
    "            history = self.train()\n",
    "            logger.info(\"Training pipeline completed\")\n",
    "            return history\n",
    "        except Exception as e:\n",
    "            logger.error(f\"Error in training pipeline: {e}\")\n",
    "            raise"
   ]
  },
  {
   "cell_type": "code",
   "execution_count": null,
   "id": "9443c049",
   "metadata": {},
   "outputs": [
    {
     "name": "stdout",
     "output_type": "stream",
     "text": [
      "[2025-08-08 13:53:45,533: INFO: common: yaml file: config\\config.yaml loaded successfully]\n",
      "[2025-08-08 13:53:45,541: INFO: common: yaml file: params.yaml loaded successfully]\n",
      "[2025-08-08 13:53:45,545: INFO: common: created directory at: artifacts]\n",
      "[2025-08-08 13:53:45,547: INFO: common: created directory at: artifacts/model_trainer]\n",
      "[2025-08-08 13:53:45,548: INFO: 1673120850: Initializing ModelTrainer]\n",
      "[2025-08-08 13:53:45,551: INFO: 1673120850: Starting training pipeline]\n",
      "[2025-08-08 13:53:45,553: INFO: 1673120850: Loading data from artifacts\\data_preprocessing\\pickle]\n"
     ]
    },
    {
     "name": "stdout",
     "output_type": "stream",
     "text": [
      "[2025-08-08 13:53:58,415: INFO: 1673120850: Loaded X with shape (9501, 49152) and y with shape (9501, 2)]\n",
      "[2025-08-08 13:53:58,415: INFO: 1673120850: Splitting data into train and test sets]\n",
      "[2025-08-08 13:54:02,002: INFO: 1673120850: Train set: X_train shape (7600, 49152), y_train shape (7600, 2)]\n",
      "[2025-08-08 13:54:02,013: INFO: 1673120850: Test set: X_test shape (1901, 49152), y_test shape (1901, 2)]\n",
      "[2025-08-08 13:54:02,868: INFO: 1673120850: Memory cleared after loading and splitting]\n",
      "[2025-08-08 13:54:02,868: INFO: 1673120850: Preprocessing data]\n",
      "[2025-08-08 13:54:02,868: INFO: 1673120850: Reshaped X_train to (7600, 128, 128, 3), X_test to (1901, 128, 128, 3)]\n",
      "[2025-08-08 13:54:02,868: INFO: 1673120850: Reshaped y_train to (7600, 2), y_test to (1901, 2)]\n",
      "[2025-08-08 13:54:02,965: INFO: 1673120850: Data preprocessing completed]\n",
      "[2025-08-08 13:54:02,965: INFO: 1673120850: Starting model training]\n",
      "[2025-08-08 13:54:02,965: INFO: 1673120850: Building CNN model]\n"
     ]
    },
    {
     "name": "stderr",
     "output_type": "stream",
     "text": [
      "c:\\Users\\hp\\anaconda3\\envs\\cicdproject\\lib\\site-packages\\keras\\src\\layers\\convolutional\\base_conv.py:113: UserWarning: Do not pass an `input_shape`/`input_dim` argument to a layer. When using Sequential models, prefer using an `Input(shape)` object as the first layer in the model instead.\n",
      "  super().__init__(activity_regularizer=activity_regularizer, **kwargs)\n"
     ]
    },
    {
     "name": "stdout",
     "output_type": "stream",
     "text": [
      "[2025-08-08 13:54:03,212: INFO: 1673120850: Model built successfully]\n"
     ]
    },
    {
     "data": {
      "text/html": [
       "<pre style=\"white-space:pre;overflow-x:auto;line-height:normal;font-family:Menlo,'DejaVu Sans Mono',consolas,'Courier New',monospace\"><span style=\"font-weight: bold\">Model: \"sequential\"</span>\n",
       "</pre>\n"
      ],
      "text/plain": [
       "\u001b[1mModel: \"sequential\"\u001b[0m\n"
      ]
     },
     "metadata": {},
     "output_type": "display_data"
    },
    {
     "data": {
      "text/html": [
       "<pre style=\"white-space:pre;overflow-x:auto;line-height:normal;font-family:Menlo,'DejaVu Sans Mono',consolas,'Courier New',monospace\">┏━━━━━━━━━━━━━━━━━━━━━━━━━━━━━━━━━┳━━━━━━━━━━━━━━━━━━━━━━━━┳━━━━━━━━━━━━━━━┓\n",
       "┃<span style=\"font-weight: bold\"> Layer (type)                    </span>┃<span style=\"font-weight: bold\"> Output Shape           </span>┃<span style=\"font-weight: bold\">       Param # </span>┃\n",
       "┡━━━━━━━━━━━━━━━━━━━━━━━━━━━━━━━━━╇━━━━━━━━━━━━━━━━━━━━━━━━╇━━━━━━━━━━━━━━━┩\n",
       "│ conv2d (<span style=\"color: #0087ff; text-decoration-color: #0087ff\">Conv2D</span>)                 │ (<span style=\"color: #00d7ff; text-decoration-color: #00d7ff\">None</span>, <span style=\"color: #00af00; text-decoration-color: #00af00\">126</span>, <span style=\"color: #00af00; text-decoration-color: #00af00\">126</span>, <span style=\"color: #00af00; text-decoration-color: #00af00\">32</span>)   │           <span style=\"color: #00af00; text-decoration-color: #00af00\">896</span> │\n",
       "├─────────────────────────────────┼────────────────────────┼───────────────┤\n",
       "│ max_pooling2d (<span style=\"color: #0087ff; text-decoration-color: #0087ff\">MaxPooling2D</span>)    │ (<span style=\"color: #00d7ff; text-decoration-color: #00d7ff\">None</span>, <span style=\"color: #00af00; text-decoration-color: #00af00\">63</span>, <span style=\"color: #00af00; text-decoration-color: #00af00\">63</span>, <span style=\"color: #00af00; text-decoration-color: #00af00\">32</span>)     │             <span style=\"color: #00af00; text-decoration-color: #00af00\">0</span> │\n",
       "├─────────────────────────────────┼────────────────────────┼───────────────┤\n",
       "│ conv2d_1 (<span style=\"color: #0087ff; text-decoration-color: #0087ff\">Conv2D</span>)               │ (<span style=\"color: #00d7ff; text-decoration-color: #00d7ff\">None</span>, <span style=\"color: #00af00; text-decoration-color: #00af00\">61</span>, <span style=\"color: #00af00; text-decoration-color: #00af00\">61</span>, <span style=\"color: #00af00; text-decoration-color: #00af00\">64</span>)     │        <span style=\"color: #00af00; text-decoration-color: #00af00\">18,496</span> │\n",
       "├─────────────────────────────────┼────────────────────────┼───────────────┤\n",
       "│ max_pooling2d_1 (<span style=\"color: #0087ff; text-decoration-color: #0087ff\">MaxPooling2D</span>)  │ (<span style=\"color: #00d7ff; text-decoration-color: #00d7ff\">None</span>, <span style=\"color: #00af00; text-decoration-color: #00af00\">30</span>, <span style=\"color: #00af00; text-decoration-color: #00af00\">30</span>, <span style=\"color: #00af00; text-decoration-color: #00af00\">64</span>)     │             <span style=\"color: #00af00; text-decoration-color: #00af00\">0</span> │\n",
       "├─────────────────────────────────┼────────────────────────┼───────────────┤\n",
       "│ conv2d_2 (<span style=\"color: #0087ff; text-decoration-color: #0087ff\">Conv2D</span>)               │ (<span style=\"color: #00d7ff; text-decoration-color: #00d7ff\">None</span>, <span style=\"color: #00af00; text-decoration-color: #00af00\">28</span>, <span style=\"color: #00af00; text-decoration-color: #00af00\">28</span>, <span style=\"color: #00af00; text-decoration-color: #00af00\">64</span>)     │        <span style=\"color: #00af00; text-decoration-color: #00af00\">36,928</span> │\n",
       "├─────────────────────────────────┼────────────────────────┼───────────────┤\n",
       "│ flatten (<span style=\"color: #0087ff; text-decoration-color: #0087ff\">Flatten</span>)               │ (<span style=\"color: #00d7ff; text-decoration-color: #00d7ff\">None</span>, <span style=\"color: #00af00; text-decoration-color: #00af00\">50176</span>)          │             <span style=\"color: #00af00; text-decoration-color: #00af00\">0</span> │\n",
       "├─────────────────────────────────┼────────────────────────┼───────────────┤\n",
       "│ dense (<span style=\"color: #0087ff; text-decoration-color: #0087ff\">Dense</span>)                   │ (<span style=\"color: #00d7ff; text-decoration-color: #00d7ff\">None</span>, <span style=\"color: #00af00; text-decoration-color: #00af00\">64</span>)             │     <span style=\"color: #00af00; text-decoration-color: #00af00\">3,211,328</span> │\n",
       "├─────────────────────────────────┼────────────────────────┼───────────────┤\n",
       "│ dense_1 (<span style=\"color: #0087ff; text-decoration-color: #0087ff\">Dense</span>)                 │ (<span style=\"color: #00d7ff; text-decoration-color: #00d7ff\">None</span>, <span style=\"color: #00af00; text-decoration-color: #00af00\">2</span>)              │           <span style=\"color: #00af00; text-decoration-color: #00af00\">130</span> │\n",
       "└─────────────────────────────────┴────────────────────────┴───────────────┘\n",
       "</pre>\n"
      ],
      "text/plain": [
       "┏━━━━━━━━━━━━━━━━━━━━━━━━━━━━━━━━━┳━━━━━━━━━━━━━━━━━━━━━━━━┳━━━━━━━━━━━━━━━┓\n",
       "┃\u001b[1m \u001b[0m\u001b[1mLayer (type)                   \u001b[0m\u001b[1m \u001b[0m┃\u001b[1m \u001b[0m\u001b[1mOutput Shape          \u001b[0m\u001b[1m \u001b[0m┃\u001b[1m \u001b[0m\u001b[1m      Param #\u001b[0m\u001b[1m \u001b[0m┃\n",
       "┡━━━━━━━━━━━━━━━━━━━━━━━━━━━━━━━━━╇━━━━━━━━━━━━━━━━━━━━━━━━╇━━━━━━━━━━━━━━━┩\n",
       "│ conv2d (\u001b[38;5;33mConv2D\u001b[0m)                 │ (\u001b[38;5;45mNone\u001b[0m, \u001b[38;5;34m126\u001b[0m, \u001b[38;5;34m126\u001b[0m, \u001b[38;5;34m32\u001b[0m)   │           \u001b[38;5;34m896\u001b[0m │\n",
       "├─────────────────────────────────┼────────────────────────┼───────────────┤\n",
       "│ max_pooling2d (\u001b[38;5;33mMaxPooling2D\u001b[0m)    │ (\u001b[38;5;45mNone\u001b[0m, \u001b[38;5;34m63\u001b[0m, \u001b[38;5;34m63\u001b[0m, \u001b[38;5;34m32\u001b[0m)     │             \u001b[38;5;34m0\u001b[0m │\n",
       "├─────────────────────────────────┼────────────────────────┼───────────────┤\n",
       "│ conv2d_1 (\u001b[38;5;33mConv2D\u001b[0m)               │ (\u001b[38;5;45mNone\u001b[0m, \u001b[38;5;34m61\u001b[0m, \u001b[38;5;34m61\u001b[0m, \u001b[38;5;34m64\u001b[0m)     │        \u001b[38;5;34m18,496\u001b[0m │\n",
       "├─────────────────────────────────┼────────────────────────┼───────────────┤\n",
       "│ max_pooling2d_1 (\u001b[38;5;33mMaxPooling2D\u001b[0m)  │ (\u001b[38;5;45mNone\u001b[0m, \u001b[38;5;34m30\u001b[0m, \u001b[38;5;34m30\u001b[0m, \u001b[38;5;34m64\u001b[0m)     │             \u001b[38;5;34m0\u001b[0m │\n",
       "├─────────────────────────────────┼────────────────────────┼───────────────┤\n",
       "│ conv2d_2 (\u001b[38;5;33mConv2D\u001b[0m)               │ (\u001b[38;5;45mNone\u001b[0m, \u001b[38;5;34m28\u001b[0m, \u001b[38;5;34m28\u001b[0m, \u001b[38;5;34m64\u001b[0m)     │        \u001b[38;5;34m36,928\u001b[0m │\n",
       "├─────────────────────────────────┼────────────────────────┼───────────────┤\n",
       "│ flatten (\u001b[38;5;33mFlatten\u001b[0m)               │ (\u001b[38;5;45mNone\u001b[0m, \u001b[38;5;34m50176\u001b[0m)          │             \u001b[38;5;34m0\u001b[0m │\n",
       "├─────────────────────────────────┼────────────────────────┼───────────────┤\n",
       "│ dense (\u001b[38;5;33mDense\u001b[0m)                   │ (\u001b[38;5;45mNone\u001b[0m, \u001b[38;5;34m64\u001b[0m)             │     \u001b[38;5;34m3,211,328\u001b[0m │\n",
       "├─────────────────────────────────┼────────────────────────┼───────────────┤\n",
       "│ dense_1 (\u001b[38;5;33mDense\u001b[0m)                 │ (\u001b[38;5;45mNone\u001b[0m, \u001b[38;5;34m2\u001b[0m)              │           \u001b[38;5;34m130\u001b[0m │\n",
       "└─────────────────────────────────┴────────────────────────┴───────────────┘\n"
      ]
     },
     "metadata": {},
     "output_type": "display_data"
    },
    {
     "data": {
      "text/html": [
       "<pre style=\"white-space:pre;overflow-x:auto;line-height:normal;font-family:Menlo,'DejaVu Sans Mono',consolas,'Courier New',monospace\"><span style=\"font-weight: bold\"> Total params: </span><span style=\"color: #00af00; text-decoration-color: #00af00\">3,267,778</span> (12.47 MB)\n",
       "</pre>\n"
      ],
      "text/plain": [
       "\u001b[1m Total params: \u001b[0m\u001b[38;5;34m3,267,778\u001b[0m (12.47 MB)\n"
      ]
     },
     "metadata": {},
     "output_type": "display_data"
    },
    {
     "data": {
      "text/html": [
       "<pre style=\"white-space:pre;overflow-x:auto;line-height:normal;font-family:Menlo,'DejaVu Sans Mono',consolas,'Courier New',monospace\"><span style=\"font-weight: bold\"> Trainable params: </span><span style=\"color: #00af00; text-decoration-color: #00af00\">3,267,778</span> (12.47 MB)\n",
       "</pre>\n"
      ],
      "text/plain": [
       "\u001b[1m Trainable params: \u001b[0m\u001b[38;5;34m3,267,778\u001b[0m (12.47 MB)\n"
      ]
     },
     "metadata": {},
     "output_type": "display_data"
    },
    {
     "data": {
      "text/html": [
       "<pre style=\"white-space:pre;overflow-x:auto;line-height:normal;font-family:Menlo,'DejaVu Sans Mono',consolas,'Courier New',monospace\"><span style=\"font-weight: bold\"> Non-trainable params: </span><span style=\"color: #00af00; text-decoration-color: #00af00\">0</span> (0.00 B)\n",
       "</pre>\n"
      ],
      "text/plain": [
       "\u001b[1m Non-trainable params: \u001b[0m\u001b[38;5;34m0\u001b[0m (0.00 B)\n"
      ]
     },
     "metadata": {},
     "output_type": "display_data"
    },
    {
     "name": "stdout",
     "output_type": "stream",
     "text": [
      "Epoch 1/15\n",
      "\u001b[1m237/237\u001b[0m \u001b[32m━━━━━━━━━━━━━━━━━━━━\u001b[0m\u001b[37m\u001b[0m \u001b[1m52s\u001b[0m 205ms/step - accuracy: 0.8290 - f1_score: 0.7199 - loss: 0.3349 - precision: 0.8290 - recall: 0.8290 - val_accuracy: 0.8660 - val_f1_score: 0.8256 - val_loss: 0.3202 - val_precision: 0.8660 - val_recall: 0.8660\n",
      "Epoch 2/15\n",
      "\u001b[1m237/237\u001b[0m \u001b[32m━━━━━━━━━━━━━━━━━━━━\u001b[0m\u001b[37m\u001b[0m \u001b[1m49s\u001b[0m 206ms/step - accuracy: 0.8605 - f1_score: 0.8071 - loss: 0.2843 - precision: 0.8605 - recall: 0.8605 - val_accuracy: 0.8782 - val_f1_score: 0.8364 - val_loss: 0.2741 - val_precision: 0.8782 - val_recall: 0.8782\n",
      "Epoch 3/15\n",
      "\u001b[1m237/237\u001b[0m \u001b[32m━━━━━━━━━━━━━━━━━━━━\u001b[0m\u001b[37m\u001b[0m \u001b[1m47s\u001b[0m 200ms/step - accuracy: 0.8797 - f1_score: 0.8369 - loss: 0.2628 - precision: 0.8797 - recall: 0.8797 - val_accuracy: 0.8803 - val_f1_score: 0.8432 - val_loss: 0.2544 - val_precision: 0.8803 - val_recall: 0.8803\n",
      "Epoch 4/15\n",
      "\u001b[1m237/237\u001b[0m \u001b[32m━━━━━━━━━━━━━━━━━━━━\u001b[0m\u001b[37m\u001b[0m \u001b[1m47s\u001b[0m 198ms/step - accuracy: 0.8882 - f1_score: 0.8477 - loss: 0.2352 - precision: 0.8882 - recall: 0.8882 - val_accuracy: 0.8771 - val_f1_score: 0.8399 - val_loss: 0.2601 - val_precision: 0.8771 - val_recall: 0.8771\n",
      "Epoch 5/15\n",
      "\u001b[1m237/237\u001b[0m \u001b[32m━━━━━━━━━━━━━━━━━━━━\u001b[0m\u001b[37m\u001b[0m \u001b[1m49s\u001b[0m 206ms/step - accuracy: 0.8989 - f1_score: 0.8609 - loss: 0.2174 - precision: 0.8989 - recall: 0.8989 - val_accuracy: 0.8792 - val_f1_score: 0.8390 - val_loss: 0.2689 - val_precision: 0.8792 - val_recall: 0.8792\n",
      "Epoch 6/15\n",
      "\u001b[1m237/237\u001b[0m \u001b[32m━━━━━━━━━━━━━━━━━━━━\u001b[0m\u001b[37m\u001b[0m \u001b[1m49s\u001b[0m 208ms/step - accuracy: 0.9200 - f1_score: 0.8889 - loss: 0.1731 - precision: 0.9200 - recall: 0.9200 - val_accuracy: 0.8983 - val_f1_score: 0.8515 - val_loss: 0.2518 - val_precision: 0.8983 - val_recall: 0.8983\n",
      "Epoch 7/15\n",
      "\u001b[1m237/237\u001b[0m \u001b[32m━━━━━━━━━━━━━━━━━━━━\u001b[0m\u001b[37m\u001b[0m \u001b[1m50s\u001b[0m 212ms/step - accuracy: 0.9337 - f1_score: 0.9062 - loss: 0.1466 - precision: 0.9337 - recall: 0.9337 - val_accuracy: 0.8893 - val_f1_score: 0.8477 - val_loss: 0.2327 - val_precision: 0.8893 - val_recall: 0.8893\n",
      "Epoch 8/15\n",
      "\u001b[1m237/237\u001b[0m \u001b[32m━━━━━━━━━━━━━━━━━━━━\u001b[0m\u001b[37m\u001b[0m \u001b[1m47s\u001b[0m 200ms/step - accuracy: 0.9499 - f1_score: 0.9280 - loss: 0.1188 - precision: 0.9499 - recall: 0.9499 - val_accuracy: 0.9057 - val_f1_score: 0.8653 - val_loss: 0.2398 - val_precision: 0.9057 - val_recall: 0.9057\n",
      "Epoch 9/15\n",
      "\u001b[1m237/237\u001b[0m \u001b[32m━━━━━━━━━━━━━━━━━━━━\u001b[0m\u001b[37m\u001b[0m \u001b[1m47s\u001b[0m 200ms/step - accuracy: 0.9626 - f1_score: 0.9458 - loss: 0.0935 - precision: 0.9626 - recall: 0.9626 - val_accuracy: 0.8914 - val_f1_score: 0.8440 - val_loss: 0.2756 - val_precision: 0.8914 - val_recall: 0.8914\n",
      "Epoch 10/15\n",
      "\u001b[1m237/237\u001b[0m \u001b[32m━━━━━━━━━━━━━━━━━━━━\u001b[0m\u001b[37m\u001b[0m \u001b[1m47s\u001b[0m 200ms/step - accuracy: 0.9697 - f1_score: 0.9558 - loss: 0.0722 - precision: 0.9697 - recall: 0.9697 - val_accuracy: 0.9041 - val_f1_score: 0.8606 - val_loss: 0.2746 - val_precision: 0.9041 - val_recall: 0.9041\n",
      "Epoch 11/15\n",
      "\u001b[1m237/237\u001b[0m \u001b[32m━━━━━━━━━━━━━━━━━━━━\u001b[0m\u001b[37m\u001b[0m \u001b[1m48s\u001b[0m 200ms/step - accuracy: 0.9764 - f1_score: 0.9656 - loss: 0.0605 - precision: 0.9764 - recall: 0.9764 - val_accuracy: 0.9062 - val_f1_score: 0.8523 - val_loss: 0.3159 - val_precision: 0.9062 - val_recall: 0.9062\n",
      "Epoch 12/15\n",
      "\u001b[1m237/237\u001b[0m \u001b[32m━━━━━━━━━━━━━━━━━━━━\u001b[0m\u001b[37m\u001b[0m \u001b[1m48s\u001b[0m 203ms/step - accuracy: 0.9772 - f1_score: 0.9666 - loss: 0.0573 - precision: 0.9772 - recall: 0.9772 - val_accuracy: 0.9015 - val_f1_score: 0.8492 - val_loss: 0.3636 - val_precision: 0.9015 - val_recall: 0.9015\n",
      "[2025-08-08 14:03:45,467: INFO: 1673120850: Model training completed]\n",
      "[2025-08-08 14:03:45,467: INFO: 1673120850: Training pipeline completed]\n"
     ]
    }
   ],
   "source": [
    "try:\n",
    "        config_manager = ConfigurationManager()\n",
    "        model_trainer_config = config_manager.get_model_trainer_config()\n",
    "        trainer = ModelTrainer(config=model_trainer_config)\n",
    "        history = trainer.run_training_pipeline()\n",
    "except Exception as e:\n",
    "        logger.error(f\"Pipeline failed: {e}\")\n",
    "        raise"
   ]
  }
 ],
 "metadata": {
  "kernelspec": {
   "display_name": "cicdproject",
   "language": "python",
   "name": "python3"
  },
  "language_info": {
   "codemirror_mode": {
    "name": "ipython",
    "version": 3
   },
   "file_extension": ".py",
   "mimetype": "text/x-python",
   "name": "python",
   "nbconvert_exporter": "python",
   "pygments_lexer": "ipython3",
   "version": "3.10.13"
  }
 },
 "nbformat": 4,
 "nbformat_minor": 5
}
